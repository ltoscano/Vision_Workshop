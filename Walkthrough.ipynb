{
 "cells": [
  {
   "cell_type": "markdown",
   "metadata": {},
   "source": [
    "# Training a Convolutional Neural Network on Images"
   ]
  },
  {
   "cell_type": "markdown",
   "metadata": {},
   "source": [
    "## Imports"
   ]
  },
  {
   "cell_type": "code",
   "execution_count": 1,
   "metadata": {
    "collapsed": false
   },
   "outputs": [
    {
     "name": "stderr",
     "output_type": "stream",
     "text": [
      "Using TensorFlow backend.\n"
     ]
    }
   ],
   "source": [
    "import keras\n",
    "%matplotlib inline\n",
    "import matplotlib.pyplot as plt\n",
    "import matplotlib.image as mpimg\n",
    "import numpy as np\n",
    "from keras.utils import np_utils\n",
    "from __future__ import division\n",
    "\n",
    "from __future__ import print_function\n",
    "np.random.seed(1337)  # for reproducibility\n",
    "\n",
    "from keras.datasets import mnist\n",
    "from keras.models import Sequential\n",
    "from keras.layers import Dense, Dropout, Activation, Flatten\n",
    "from keras.layers import Convolution2D, MaxPooling2D\n",
    "from keras import backend as K\n",
    "import os\n",
    "from scipy import misc\n",
    "from sklearn.cross_validation import train_test_split"
   ]
  },
  {
   "cell_type": "markdown",
   "metadata": {},
   "source": [
    "## Reading the dataset, making labels"
   ]
  },
  {
   "cell_type": "code",
   "execution_count": 31,
   "metadata": {
    "collapsed": false
   },
   "outputs": [
    {
     "data": {
      "text/plain": [
       "2555904"
      ]
     },
     "execution_count": 31,
     "metadata": {},
     "output_type": "execute_result"
    }
   ],
   "source": [
    "counter = -1\n",
    "labels = np.empty(0,dtype=int)\n",
    "images = np.array([])\n",
    "for folder in os.listdir('Processed Data Set'):\n",
    "    if(folder != '.DS_Store' and folder != '_DS_Store'):\n",
    "        counter += 1\n",
    "        for file in os.listdir('Processed Data Set/' + folder):\n",
    "            if(file != '.DS_Store' and file != '_DS_Store'):\n",
    "#                 print('Processed Data Set/' + folder + '/' + file)\n",
    "                labels = np.append(labels, [counter])\n",
    "                images = np.append(images, [misc.imread('Processed Data Set/' + folder + '/' + file)])\n",
    "a = np.asarray([255])\n",
    "images = a - images\n",
    "len(images)"
   ]
  },
  {
   "cell_type": "code",
   "execution_count": 32,
   "metadata": {
    "collapsed": false
   },
   "outputs": [],
   "source": [
    "images = images.reshape(832,32,32,3)\n",
    "a = images[:,:,:,0]\n",
    "a = a.reshape(832,32,32,1)"
   ]
  },
  {
   "cell_type": "code",
   "execution_count": 71,
   "metadata": {
    "collapsed": false
   },
   "outputs": [
    {
     "data": {
      "text/plain": [
       "0"
      ]
     },
     "execution_count": 71,
     "metadata": {},
     "output_type": "execute_result"
    },
    {
     "data": {
      "image/png": "[encoded data removed]",
      "text/plain": [
       "<matplotlib.figure.Figure at 0x11cacd5c0>"
      ]
     },
     "metadata": {},
     "output_type": "display_data"
    }
   ],
   "source": [
    "plt.figure(figsize=(2, 2))\n",
    "plt.imshow(images[380], cmap='gray')\n",
    "labels[1]"
   ]
  },
  {
   "cell_type": "code",
   "execution_count": 73,
   "metadata": {
    "collapsed": true
   },
   "outputs": [],
   "source": [
    "labels = np_utils.to_categorical(labels, 6)"
   ]
  },
  {
   "cell_type": "code",
   "execution_count": 74,
   "metadata": {
    "collapsed": true
   },
   "outputs": [],
   "source": [
    "batch_size = 128\n",
    "nb_classes = 6\n",
    "nb_epoch = 12\n",
    "\n",
    "# input image dimensions\n",
    "img_rows, img_cols = 32, 32\n",
    "# number of convolutional filters to use\n",
    "nb_filters = 32\n",
    "# size of pooling area for max pooling\n",
    "pool_size = (2, 2)\n",
    "# convolution kernel size\n",
    "kernel_size = (3, 3)\n",
    "input_shape = (32,32,1)\n",
    "\n",
    "X_train, X_test, Y_train, Y_test = train_test_split(a, labels, test_size=0.2, random_state=0)"
   ]
  },
  {
   "cell_type": "code",
   "execution_count": 75,
   "metadata": {
    "collapsed": false
   },
   "outputs": [
    {
     "data": {
      "text/plain": [
       "(665, 32, 32, 1)"
      ]
     },
     "execution_count": 75,
     "metadata": {},
     "output_type": "execute_result"
    }
   ],
   "source": [
    "X_train.shape"
   ]
  },
  {
   "cell_type": "code",
   "execution_count": 76,
   "metadata": {
    "collapsed": false
   },
   "outputs": [
    {
     "data": {
      "text/plain": [
       "(665, 6)"
      ]
     },
     "execution_count": 76,
     "metadata": {},
     "output_type": "execute_result"
    }
   ],
   "source": [
    "Y_train.shape"
   ]
  },
  {
   "cell_type": "code",
   "execution_count": 79,
   "metadata": {
    "collapsed": false
   },
   "outputs": [
    {
     "name": "stdout",
     "output_type": "stream",
     "text": [
      "Train on 665 samples, validate on 167 samples\n",
      "Epoch 1/12\n",
      "665/665 [==============================] - 2s - loss: 11.0798 - acc: 0.2015 - val_loss: 7.4994 - val_acc: 0.4611\n",
      "Epoch 2/12\n",
      "665/665 [==============================] - 2s - loss: 3.7777 - acc: 0.5203 - val_loss: 1.0503 - val_acc: 0.8024\n",
      "Epoch 3/12\n",
      "665/665 [==============================] - 2s - loss: 1.2494 - acc: 0.7293 - val_loss: 1.1135 - val_acc: 0.6168\n",
      "Epoch 4/12\n",
      "665/665 [==============================] - 2s - loss: 2.2705 - acc: 0.6090 - val_loss: 0.9117 - val_acc: 0.8024\n",
      "Epoch 5/12\n",
      "665/665 [==============================] - 2s - loss: 1.0217 - acc: 0.7579 - val_loss: 0.4056 - val_acc: 0.8563\n",
      "Epoch 6/12\n",
      "665/665 [==============================] - 2s - loss: 0.3582 - acc: 0.8872 - val_loss: 0.2850 - val_acc: 0.8922\n",
      "Epoch 7/12\n",
      "665/665 [==============================] - 2s - loss: 0.2948 - acc: 0.9053 - val_loss: 0.2639 - val_acc: 0.9042\n",
      "Epoch 8/12\n",
      "665/665 [==============================] - 2s - loss: 0.3701 - acc: 0.8827 - val_loss: 0.2512 - val_acc: 0.9162\n",
      "Epoch 9/12\n",
      "665/665 [==============================] - 2s - loss: 0.2264 - acc: 0.9068 - val_loss: 0.2835 - val_acc: 0.8922\n",
      "Epoch 10/12\n",
      "665/665 [==============================] - 2s - loss: 0.2315 - acc: 0.9143 - val_loss: 0.5346 - val_acc: 0.8743\n",
      "Epoch 11/12\n",
      "665/665 [==============================] - 2s - loss: 0.2742 - acc: 0.8977 - val_loss: 0.2524 - val_acc: 0.8982\n",
      "Epoch 12/12\n",
      "665/665 [==============================] - 2s - loss: 0.2133 - acc: 0.9203 - val_loss: 0.2211 - val_acc: 0.9281\n",
      "Test score: 0.221120890698\n",
      "Test accuracy: 0.928143712575\n"
     ]
    }
   ],
   "source": [
    "model = Sequential()\n",
    "\n",
    "model.add(Convolution2D(nb_filters, kernel_size[0], kernel_size[1],\n",
    "                        border_mode='valid',\n",
    "                        input_shape=input_shape))\n",
    "model.add(Activation('relu'))\n",
    "model.add(Convolution2D(nb_filters, kernel_size[0], kernel_size[1]))\n",
    "model.add(Activation('relu'))\n",
    "model.add(MaxPooling2D(pool_size=pool_size))\n",
    "# model.add(Dropout(0.25))\n",
    "\n",
    "model.add(Flatten())\n",
    "model.add(Dense(128))\n",
    "model.add(Activation('relu'))\n",
    "model.add(Dropout(0.2))\n",
    "model.add(Dense(nb_classes))\n",
    "model.add(Activation('softmax'))\n",
    "\n",
    "model.compile(loss='categorical_crossentropy',\n",
    "              optimizer='adadelta',\n",
    "              metrics=['accuracy'])\n",
    "\n",
    "model.fit(X_train, Y_train, batch_size=batch_size, nb_epoch=nb_epoch,\n",
    "          verbose=1, validation_data=(X_test, Y_test))\n",
    "score = model.evaluate(X_test, Y_test, verbose=0)\n",
    "print('Test score:', score[0])\n",
    "print('Test accuracy:', score[1])"
   ]
  }
 ],
 "metadata": {
  "anaconda-cloud": {},
  "kernelspec": {
   "display_name": "Python [conda root]",
   "language": "python",
   "name": "conda-root-py"
  },
  "language_info": {
   "codemirror_mode": {
    "name": "ipython",
    "version": 3
   },
   "file_extension": ".py",
   "mimetype": "text/x-python",
   "name": "python",
   "nbconvert_exporter": "python",
   "pygments_lexer": "ipython3",
   "version": "3.5.2"
  }
 },
 "nbformat": 4,
 "nbformat_minor": 1
}
